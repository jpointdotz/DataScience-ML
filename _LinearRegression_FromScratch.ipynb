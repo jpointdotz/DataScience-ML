{
 "cells": [
  {
   "cell_type": "code",
   "execution_count": 1,
   "id": "0ed42f39",
   "metadata": {},
   "outputs": [],
   "source": [
    "import numpy as np\n",
    "import pandas as pd\n",
    "import matplotlib.pyplot as plt\n",
    "import seaborn as sns"
   ]
  },
  {
   "cell_type": "code",
   "execution_count": 2,
   "id": "acc66dcc",
   "metadata": {},
   "outputs": [],
   "source": [
    "file = 'CarPrice_Assignment.csv'"
   ]
  },
  {
   "cell_type": "code",
   "execution_count": 3,
   "id": "112891ae",
   "metadata": {},
   "outputs": [],
   "source": [
    "df = pd.read_csv(file)"
   ]
  },
  {
   "cell_type": "code",
   "execution_count": 4,
   "id": "c5dd60c5",
   "metadata": {},
   "outputs": [
    {
     "data": {
      "text/html": [
       "<div>\n",
       "<style scoped>\n",
       "    .dataframe tbody tr th:only-of-type {\n",
       "        vertical-align: middle;\n",
       "    }\n",
       "\n",
       "    .dataframe tbody tr th {\n",
       "        vertical-align: top;\n",
       "    }\n",
       "\n",
       "    .dataframe thead th {\n",
       "        text-align: right;\n",
       "    }\n",
       "</style>\n",
       "<table border=\"1\" class=\"dataframe\">\n",
       "  <thead>\n",
       "    <tr style=\"text-align: right;\">\n",
       "      <th></th>\n",
       "      <th>car_ID</th>\n",
       "      <th>symboling</th>\n",
       "      <th>CarName</th>\n",
       "      <th>fueltype</th>\n",
       "      <th>aspiration</th>\n",
       "      <th>doornumber</th>\n",
       "      <th>carbody</th>\n",
       "      <th>drivewheel</th>\n",
       "      <th>enginelocation</th>\n",
       "      <th>wheelbase</th>\n",
       "      <th>...</th>\n",
       "      <th>enginesize</th>\n",
       "      <th>fuelsystem</th>\n",
       "      <th>boreratio</th>\n",
       "      <th>stroke</th>\n",
       "      <th>compressionratio</th>\n",
       "      <th>horsepower</th>\n",
       "      <th>peakrpm</th>\n",
       "      <th>citympg</th>\n",
       "      <th>highwaympg</th>\n",
       "      <th>price</th>\n",
       "    </tr>\n",
       "  </thead>\n",
       "  <tbody>\n",
       "    <tr>\n",
       "      <th>0</th>\n",
       "      <td>1</td>\n",
       "      <td>3</td>\n",
       "      <td>alfa-romero giulia</td>\n",
       "      <td>gas</td>\n",
       "      <td>std</td>\n",
       "      <td>two</td>\n",
       "      <td>convertible</td>\n",
       "      <td>rwd</td>\n",
       "      <td>front</td>\n",
       "      <td>88.6</td>\n",
       "      <td>...</td>\n",
       "      <td>130</td>\n",
       "      <td>mpfi</td>\n",
       "      <td>3.47</td>\n",
       "      <td>2.68</td>\n",
       "      <td>9.0</td>\n",
       "      <td>111</td>\n",
       "      <td>5000</td>\n",
       "      <td>21</td>\n",
       "      <td>27</td>\n",
       "      <td>13495.0</td>\n",
       "    </tr>\n",
       "    <tr>\n",
       "      <th>1</th>\n",
       "      <td>2</td>\n",
       "      <td>3</td>\n",
       "      <td>alfa-romero stelvio</td>\n",
       "      <td>gas</td>\n",
       "      <td>std</td>\n",
       "      <td>two</td>\n",
       "      <td>convertible</td>\n",
       "      <td>rwd</td>\n",
       "      <td>front</td>\n",
       "      <td>88.6</td>\n",
       "      <td>...</td>\n",
       "      <td>130</td>\n",
       "      <td>mpfi</td>\n",
       "      <td>3.47</td>\n",
       "      <td>2.68</td>\n",
       "      <td>9.0</td>\n",
       "      <td>111</td>\n",
       "      <td>5000</td>\n",
       "      <td>21</td>\n",
       "      <td>27</td>\n",
       "      <td>16500.0</td>\n",
       "    </tr>\n",
       "    <tr>\n",
       "      <th>2</th>\n",
       "      <td>3</td>\n",
       "      <td>1</td>\n",
       "      <td>alfa-romero Quadrifoglio</td>\n",
       "      <td>gas</td>\n",
       "      <td>std</td>\n",
       "      <td>two</td>\n",
       "      <td>hatchback</td>\n",
       "      <td>rwd</td>\n",
       "      <td>front</td>\n",
       "      <td>94.5</td>\n",
       "      <td>...</td>\n",
       "      <td>152</td>\n",
       "      <td>mpfi</td>\n",
       "      <td>2.68</td>\n",
       "      <td>3.47</td>\n",
       "      <td>9.0</td>\n",
       "      <td>154</td>\n",
       "      <td>5000</td>\n",
       "      <td>19</td>\n",
       "      <td>26</td>\n",
       "      <td>16500.0</td>\n",
       "    </tr>\n",
       "    <tr>\n",
       "      <th>3</th>\n",
       "      <td>4</td>\n",
       "      <td>2</td>\n",
       "      <td>audi 100 ls</td>\n",
       "      <td>gas</td>\n",
       "      <td>std</td>\n",
       "      <td>four</td>\n",
       "      <td>sedan</td>\n",
       "      <td>fwd</td>\n",
       "      <td>front</td>\n",
       "      <td>99.8</td>\n",
       "      <td>...</td>\n",
       "      <td>109</td>\n",
       "      <td>mpfi</td>\n",
       "      <td>3.19</td>\n",
       "      <td>3.40</td>\n",
       "      <td>10.0</td>\n",
       "      <td>102</td>\n",
       "      <td>5500</td>\n",
       "      <td>24</td>\n",
       "      <td>30</td>\n",
       "      <td>13950.0</td>\n",
       "    </tr>\n",
       "    <tr>\n",
       "      <th>4</th>\n",
       "      <td>5</td>\n",
       "      <td>2</td>\n",
       "      <td>audi 100ls</td>\n",
       "      <td>gas</td>\n",
       "      <td>std</td>\n",
       "      <td>four</td>\n",
       "      <td>sedan</td>\n",
       "      <td>4wd</td>\n",
       "      <td>front</td>\n",
       "      <td>99.4</td>\n",
       "      <td>...</td>\n",
       "      <td>136</td>\n",
       "      <td>mpfi</td>\n",
       "      <td>3.19</td>\n",
       "      <td>3.40</td>\n",
       "      <td>8.0</td>\n",
       "      <td>115</td>\n",
       "      <td>5500</td>\n",
       "      <td>18</td>\n",
       "      <td>22</td>\n",
       "      <td>17450.0</td>\n",
       "    </tr>\n",
       "  </tbody>\n",
       "</table>\n",
       "<p>5 rows × 26 columns</p>\n",
       "</div>"
      ],
      "text/plain": [
       "   car_ID  symboling                   CarName fueltype aspiration doornumber  \\\n",
       "0       1          3        alfa-romero giulia      gas        std        two   \n",
       "1       2          3       alfa-romero stelvio      gas        std        two   \n",
       "2       3          1  alfa-romero Quadrifoglio      gas        std        two   \n",
       "3       4          2               audi 100 ls      gas        std       four   \n",
       "4       5          2                audi 100ls      gas        std       four   \n",
       "\n",
       "       carbody drivewheel enginelocation  wheelbase  ...  enginesize  \\\n",
       "0  convertible        rwd          front       88.6  ...         130   \n",
       "1  convertible        rwd          front       88.6  ...         130   \n",
       "2    hatchback        rwd          front       94.5  ...         152   \n",
       "3        sedan        fwd          front       99.8  ...         109   \n",
       "4        sedan        4wd          front       99.4  ...         136   \n",
       "\n",
       "   fuelsystem  boreratio  stroke compressionratio horsepower  peakrpm citympg  \\\n",
       "0        mpfi       3.47    2.68              9.0        111     5000      21   \n",
       "1        mpfi       3.47    2.68              9.0        111     5000      21   \n",
       "2        mpfi       2.68    3.47              9.0        154     5000      19   \n",
       "3        mpfi       3.19    3.40             10.0        102     5500      24   \n",
       "4        mpfi       3.19    3.40              8.0        115     5500      18   \n",
       "\n",
       "   highwaympg    price  \n",
       "0          27  13495.0  \n",
       "1          27  16500.0  \n",
       "2          26  16500.0  \n",
       "3          30  13950.0  \n",
       "4          22  17450.0  \n",
       "\n",
       "[5 rows x 26 columns]"
      ]
     },
     "execution_count": 4,
     "metadata": {},
     "output_type": "execute_result"
    }
   ],
   "source": [
    "df.head()"
   ]
  },
  {
   "cell_type": "code",
   "execution_count": 5,
   "id": "fb78ec66",
   "metadata": {},
   "outputs": [
    {
     "data": {
      "text/plain": [
       "[]"
      ]
     },
     "execution_count": 5,
     "metadata": {},
     "output_type": "execute_result"
    },
    {
     "data": {
      "image/png": "[encoded data removed]",
      "text/plain": [
       "<Figure size 640x480 with 1 Axes>"
      ]
     },
     "metadata": {},
     "output_type": "display_data"
    }
   ],
   "source": [
    "sns.regplot(data=df, x='enginesize', y='price', )\n",
    "plt.plot()"
   ]
  },
  {
   "cell_type": "code",
   "execution_count": 6,
   "id": "88a85534",
   "metadata": {},
   "outputs": [],
   "source": [
    "df = df[['enginesize', 'price']]"
   ]
  },
  {
   "cell_type": "code",
   "execution_count": 7,
   "id": "381e1750",
   "metadata": {},
   "outputs": [],
   "source": [
    "df.rename(columns={'enginesize' : 'X', 'price' : 'Y'}, inplace=True)"
   ]
  },
  {
   "cell_type": "code",
   "execution_count": 8,
   "id": "4d74ec9c",
   "metadata": {},
   "outputs": [
    {
     "data": {
      "text/html": [
       "<div>\n",
       "<style scoped>\n",
       "    .dataframe tbody tr th:only-of-type {\n",
       "        vertical-align: middle;\n",
       "    }\n",
       "\n",
       "    .dataframe tbody tr th {\n",
       "        vertical-align: top;\n",
       "    }\n",
       "\n",
       "    .dataframe thead th {\n",
       "        text-align: right;\n",
       "    }\n",
       "</style>\n",
       "<table border=\"1\" class=\"dataframe\">\n",
       "  <thead>\n",
       "    <tr style=\"text-align: right;\">\n",
       "      <th></th>\n",
       "      <th>X</th>\n",
       "      <th>Y</th>\n",
       "    </tr>\n",
       "  </thead>\n",
       "  <tbody>\n",
       "    <tr>\n",
       "      <th>0</th>\n",
       "      <td>130</td>\n",
       "      <td>13495.0</td>\n",
       "    </tr>\n",
       "    <tr>\n",
       "      <th>1</th>\n",
       "      <td>130</td>\n",
       "      <td>16500.0</td>\n",
       "    </tr>\n",
       "    <tr>\n",
       "      <th>2</th>\n",
       "      <td>152</td>\n",
       "      <td>16500.0</td>\n",
       "    </tr>\n",
       "    <tr>\n",
       "      <th>3</th>\n",
       "      <td>109</td>\n",
       "      <td>13950.0</td>\n",
       "    </tr>\n",
       "    <tr>\n",
       "      <th>4</th>\n",
       "      <td>136</td>\n",
       "      <td>17450.0</td>\n",
       "    </tr>\n",
       "  </tbody>\n",
       "</table>\n",
       "</div>"
      ],
      "text/plain": [
       "     X        Y\n",
       "0  130  13495.0\n",
       "1  130  16500.0\n",
       "2  152  16500.0\n",
       "3  109  13950.0\n",
       "4  136  17450.0"
      ]
     },
     "execution_count": 8,
     "metadata": {},
     "output_type": "execute_result"
    }
   ],
   "source": [
    "df.head()"
   ]
  },
  {
   "cell_type": "code",
   "execution_count": 9,
   "id": "b0ca0167",
   "metadata": {},
   "outputs": [],
   "source": [
    "mean_X = df['X'].mean()\n",
    "mean_Y = df['Y'].mean()"
   ]
  },
  {
   "cell_type": "code",
   "execution_count": 10,
   "id": "767d3f94",
   "metadata": {},
   "outputs": [
    {
     "data": {
      "text/plain": [
       "(126.90731707317073, 13276.710570731706)"
      ]
     },
     "execution_count": 10,
     "metadata": {},
     "output_type": "execute_result"
    }
   ],
   "source": [
    "mean_X, mean_Y"
   ]
  },
  {
   "cell_type": "code",
   "execution_count": 11,
   "id": "f810eb0c",
   "metadata": {},
   "outputs": [],
   "source": [
    "lambda_1 = (lambda a: (a - mean_X))\n",
    "lambda_2 = (lambda a: (a - mean_Y))\n",
    "lambda_3 = (lambda a: a**2)"
   ]
  },
  {
   "cell_type": "code",
   "execution_count": 12,
   "id": "07e877bd",
   "metadata": {},
   "outputs": [],
   "source": [
    "df['X-mean(X)'] = df['X'].apply(lambda_1)\n",
    "df['X-mean(X)^2'] = df['X-mean(X)'].apply(lambda_3)"
   ]
  },
  {
   "cell_type": "code",
   "execution_count": 13,
   "id": "eef94da6",
   "metadata": {},
   "outputs": [],
   "source": [
    "df['Y-mean(Y)'] = df['Y'].apply(lambda_2)\n",
    "df['Y-mean(Y)^2'] = df['Y-mean(Y)'].apply(lambda_3)"
   ]
  },
  {
   "cell_type": "code",
   "execution_count": 14,
   "id": "7ea78dde",
   "metadata": {},
   "outputs": [],
   "source": [
    "df['X-mean(X)*Y-mean(Y)'] = (df['X'] - mean_X)*(df['Y'] - mean_Y)"
   ]
  },
  {
   "cell_type": "code",
   "execution_count": 15,
   "id": "a18cebad",
   "metadata": {},
   "outputs": [
    {
     "data": {
      "text/html": [
       "<div>\n",
       "<style scoped>\n",
       "    .dataframe tbody tr th:only-of-type {\n",
       "        vertical-align: middle;\n",
       "    }\n",
       "\n",
       "    .dataframe tbody tr th {\n",
       "        vertical-align: top;\n",
       "    }\n",
       "\n",
       "    .dataframe thead th {\n",
       "        text-align: right;\n",
       "    }\n",
       "</style>\n",
       "<table border=\"1\" class=\"dataframe\">\n",
       "  <thead>\n",
       "    <tr style=\"text-align: right;\">\n",
       "      <th></th>\n",
       "      <th>X</th>\n",
       "      <th>Y</th>\n",
       "      <th>X-mean(X)</th>\n",
       "      <th>X-mean(X)^2</th>\n",
       "      <th>Y-mean(Y)</th>\n",
       "      <th>Y-mean(Y)^2</th>\n",
       "      <th>X-mean(X)*Y-mean(Y)</th>\n",
       "    </tr>\n",
       "  </thead>\n",
       "  <tbody>\n",
       "    <tr>\n",
       "      <th>0</th>\n",
       "      <td>130</td>\n",
       "      <td>13495.0</td>\n",
       "      <td>3.092683</td>\n",
       "      <td>9.564688</td>\n",
       "      <td>218.289429</td>\n",
       "      <td>4.765027e+04</td>\n",
       "      <td>675.099991</td>\n",
       "    </tr>\n",
       "    <tr>\n",
       "      <th>1</th>\n",
       "      <td>130</td>\n",
       "      <td>16500.0</td>\n",
       "      <td>3.092683</td>\n",
       "      <td>9.564688</td>\n",
       "      <td>3223.289429</td>\n",
       "      <td>1.038959e+07</td>\n",
       "      <td>9968.612186</td>\n",
       "    </tr>\n",
       "    <tr>\n",
       "      <th>2</th>\n",
       "      <td>152</td>\n",
       "      <td>16500.0</td>\n",
       "      <td>25.092683</td>\n",
       "      <td>629.642736</td>\n",
       "      <td>3223.289429</td>\n",
       "      <td>1.038959e+07</td>\n",
       "      <td>80880.979630</td>\n",
       "    </tr>\n",
       "    <tr>\n",
       "      <th>3</th>\n",
       "      <td>109</td>\n",
       "      <td>13950.0</td>\n",
       "      <td>-17.907317</td>\n",
       "      <td>320.672005</td>\n",
       "      <td>673.289429</td>\n",
       "      <td>4.533187e+05</td>\n",
       "      <td>-12056.807292</td>\n",
       "    </tr>\n",
       "    <tr>\n",
       "      <th>4</th>\n",
       "      <td>136</td>\n",
       "      <td>17450.0</td>\n",
       "      <td>9.092683</td>\n",
       "      <td>82.676883</td>\n",
       "      <td>4173.289429</td>\n",
       "      <td>1.741634e+07</td>\n",
       "      <td>37946.397542</td>\n",
       "    </tr>\n",
       "  </tbody>\n",
       "</table>\n",
       "</div>"
      ],
      "text/plain": [
       "     X        Y  X-mean(X)  X-mean(X)^2    Y-mean(Y)   Y-mean(Y)^2  \\\n",
       "0  130  13495.0   3.092683     9.564688   218.289429  4.765027e+04   \n",
       "1  130  16500.0   3.092683     9.564688  3223.289429  1.038959e+07   \n",
       "2  152  16500.0  25.092683   629.642736  3223.289429  1.038959e+07   \n",
       "3  109  13950.0 -17.907317   320.672005   673.289429  4.533187e+05   \n",
       "4  136  17450.0   9.092683    82.676883  4173.289429  1.741634e+07   \n",
       "\n",
       "   X-mean(X)*Y-mean(Y)  \n",
       "0           675.099991  \n",
       "1          9968.612186  \n",
       "2         80880.979630  \n",
       "3        -12056.807292  \n",
       "4         37946.397542  "
      ]
     },
     "execution_count": 15,
     "metadata": {},
     "output_type": "execute_result"
    }
   ],
   "source": [
    "df.head()"
   ]
  },
  {
   "cell_type": "code",
   "execution_count": 16,
   "id": "5ed79182",
   "metadata": {},
   "outputs": [
    {
     "data": {
      "text/plain": [
       "167.69841639317212"
      ]
     },
     "execution_count": 16,
     "metadata": {},
     "output_type": "execute_result"
    }
   ],
   "source": [
    "b1 = df['X-mean(X)*Y-mean(Y)'].sum()/df['X-mean(X)^2'].sum()\n",
    "b1"
   ]
  },
  {
   "cell_type": "code",
   "execution_count": 19,
   "id": "476c3092",
   "metadata": {},
   "outputs": [
    {
     "data": {
      "text/plain": [
       "-8005.4455311452"
      ]
     },
     "execution_count": 19,
     "metadata": {},
     "output_type": "execute_result"
    }
   ],
   "source": [
    "b0 = mean_Y - (b1 * mean_X)\n",
    "b0"
   ]
  },
  {
   "cell_type": "markdown",
   "id": "f5960e67",
   "metadata": {},
   "source": [
    "## Line definition : \n",
    "## _y = -8005.45 + 167.7*x_"
   ]
  },
  {
   "cell_type": "code",
   "execution_count": 24,
   "id": "5d192f11",
   "metadata": {},
   "outputs": [],
   "source": [
    "lambda_4 = (lambda a: b0 + (b1*a))"
   ]
  },
  {
   "cell_type": "code",
   "execution_count": 25,
   "id": "e3f1cdc8",
   "metadata": {},
   "outputs": [],
   "source": [
    "df['y_pred_man'] = df['X'].apply(lambda_4)"
   ]
  },
  {
   "cell_type": "code",
   "execution_count": 26,
   "id": "514604f5",
   "metadata": {},
   "outputs": [],
   "source": [
    "from sklearn.linear_model import LinearRegression\n",
    "from sklearn.model_selection import train_test_split"
   ]
  },
  {
   "cell_type": "code",
   "execution_count": 27,
   "id": "5aaf60cf",
   "metadata": {},
   "outputs": [
    {
     "data": {
      "text/html": [
       "<div>\n",
       "<style scoped>\n",
       "    .dataframe tbody tr th:only-of-type {\n",
       "        vertical-align: middle;\n",
       "    }\n",
       "\n",
       "    .dataframe tbody tr th {\n",
       "        vertical-align: top;\n",
       "    }\n",
       "\n",
       "    .dataframe thead th {\n",
       "        text-align: right;\n",
       "    }\n",
       "</style>\n",
       "<table border=\"1\" class=\"dataframe\">\n",
       "  <thead>\n",
       "    <tr style=\"text-align: right;\">\n",
       "      <th></th>\n",
       "      <th>X</th>\n",
       "      <th>Y</th>\n",
       "      <th>X-mean(X)</th>\n",
       "      <th>X-mean(X)^2</th>\n",
       "      <th>Y-mean(Y)</th>\n",
       "      <th>Y-mean(Y)^2</th>\n",
       "      <th>X-mean(X)*Y-mean(Y)</th>\n",
       "      <th>y_pred_man</th>\n",
       "    </tr>\n",
       "  </thead>\n",
       "  <tbody>\n",
       "    <tr>\n",
       "      <th>0</th>\n",
       "      <td>130</td>\n",
       "      <td>13495.0</td>\n",
       "      <td>3.092683</td>\n",
       "      <td>9.564688</td>\n",
       "      <td>218.289429</td>\n",
       "      <td>4.765027e+04</td>\n",
       "      <td>675.099991</td>\n",
       "      <td>13795.348600</td>\n",
       "    </tr>\n",
       "    <tr>\n",
       "      <th>1</th>\n",
       "      <td>130</td>\n",
       "      <td>16500.0</td>\n",
       "      <td>3.092683</td>\n",
       "      <td>9.564688</td>\n",
       "      <td>3223.289429</td>\n",
       "      <td>1.038959e+07</td>\n",
       "      <td>9968.612186</td>\n",
       "      <td>13795.348600</td>\n",
       "    </tr>\n",
       "    <tr>\n",
       "      <th>2</th>\n",
       "      <td>152</td>\n",
       "      <td>16500.0</td>\n",
       "      <td>25.092683</td>\n",
       "      <td>629.642736</td>\n",
       "      <td>3223.289429</td>\n",
       "      <td>1.038959e+07</td>\n",
       "      <td>80880.979630</td>\n",
       "      <td>17484.713761</td>\n",
       "    </tr>\n",
       "    <tr>\n",
       "      <th>3</th>\n",
       "      <td>109</td>\n",
       "      <td>13950.0</td>\n",
       "      <td>-17.907317</td>\n",
       "      <td>320.672005</td>\n",
       "      <td>673.289429</td>\n",
       "      <td>4.533187e+05</td>\n",
       "      <td>-12056.807292</td>\n",
       "      <td>10273.681856</td>\n",
       "    </tr>\n",
       "    <tr>\n",
       "      <th>4</th>\n",
       "      <td>136</td>\n",
       "      <td>17450.0</td>\n",
       "      <td>9.092683</td>\n",
       "      <td>82.676883</td>\n",
       "      <td>4173.289429</td>\n",
       "      <td>1.741634e+07</td>\n",
       "      <td>37946.397542</td>\n",
       "      <td>14801.539098</td>\n",
       "    </tr>\n",
       "    <tr>\n",
       "      <th>...</th>\n",
       "      <td>...</td>\n",
       "      <td>...</td>\n",
       "      <td>...</td>\n",
       "      <td>...</td>\n",
       "      <td>...</td>\n",
       "      <td>...</td>\n",
       "      <td>...</td>\n",
       "      <td>...</td>\n",
       "    </tr>\n",
       "    <tr>\n",
       "      <th>200</th>\n",
       "      <td>141</td>\n",
       "      <td>16845.0</td>\n",
       "      <td>14.092683</td>\n",
       "      <td>198.603712</td>\n",
       "      <td>3568.289429</td>\n",
       "      <td>1.273269e+07</td>\n",
       "      <td>50286.771518</td>\n",
       "      <td>15640.031180</td>\n",
       "    </tr>\n",
       "    <tr>\n",
       "      <th>201</th>\n",
       "      <td>141</td>\n",
       "      <td>19045.0</td>\n",
       "      <td>14.092683</td>\n",
       "      <td>198.603712</td>\n",
       "      <td>5768.289429</td>\n",
       "      <td>3.327316e+07</td>\n",
       "      <td>81290.673957</td>\n",
       "      <td>15640.031180</td>\n",
       "    </tr>\n",
       "    <tr>\n",
       "      <th>202</th>\n",
       "      <td>173</td>\n",
       "      <td>21485.0</td>\n",
       "      <td>46.092683</td>\n",
       "      <td>2124.535419</td>\n",
       "      <td>8208.289429</td>\n",
       "      <td>6.737602e+07</td>\n",
       "      <td>378342.082035</td>\n",
       "      <td>21006.380505</td>\n",
       "    </tr>\n",
       "    <tr>\n",
       "      <th>203</th>\n",
       "      <td>145</td>\n",
       "      <td>22470.0</td>\n",
       "      <td>18.092683</td>\n",
       "      <td>327.345175</td>\n",
       "      <td>9193.289429</td>\n",
       "      <td>8.451657e+07</td>\n",
       "      <td>166331.270698</td>\n",
       "      <td>16310.824846</td>\n",
       "    </tr>\n",
       "    <tr>\n",
       "      <th>204</th>\n",
       "      <td>141</td>\n",
       "      <td>22625.0</td>\n",
       "      <td>14.092683</td>\n",
       "      <td>198.603712</td>\n",
       "      <td>9348.289429</td>\n",
       "      <td>8.739052e+07</td>\n",
       "      <td>131742.478835</td>\n",
       "      <td>15640.031180</td>\n",
       "    </tr>\n",
       "  </tbody>\n",
       "</table>\n",
       "<p>205 rows × 8 columns</p>\n",
       "</div>"
      ],
      "text/plain": [
       "       X        Y  X-mean(X)  X-mean(X)^2    Y-mean(Y)   Y-mean(Y)^2  \\\n",
       "0    130  13495.0   3.092683     9.564688   218.289429  4.765027e+04   \n",
       "1    130  16500.0   3.092683     9.564688  3223.289429  1.038959e+07   \n",
       "2    152  16500.0  25.092683   629.642736  3223.289429  1.038959e+07   \n",
       "3    109  13950.0 -17.907317   320.672005   673.289429  4.533187e+05   \n",
       "4    136  17450.0   9.092683    82.676883  4173.289429  1.741634e+07   \n",
       "..   ...      ...        ...          ...          ...           ...   \n",
       "200  141  16845.0  14.092683   198.603712  3568.289429  1.273269e+07   \n",
       "201  141  19045.0  14.092683   198.603712  5768.289429  3.327316e+07   \n",
       "202  173  21485.0  46.092683  2124.535419  8208.289429  6.737602e+07   \n",
       "203  145  22470.0  18.092683   327.345175  9193.289429  8.451657e+07   \n",
       "204  141  22625.0  14.092683   198.603712  9348.289429  8.739052e+07   \n",
       "\n",
       "     X-mean(X)*Y-mean(Y)    y_pred_man  \n",
       "0             675.099991  13795.348600  \n",
       "1            9968.612186  13795.348600  \n",
       "2           80880.979630  17484.713761  \n",
       "3          -12056.807292  10273.681856  \n",
       "4           37946.397542  14801.539098  \n",
       "..                   ...           ...  \n",
       "200         50286.771518  15640.031180  \n",
       "201         81290.673957  15640.031180  \n",
       "202        378342.082035  21006.380505  \n",
       "203        166331.270698  16310.824846  \n",
       "204        131742.478835  15640.031180  \n",
       "\n",
       "[205 rows x 8 columns]"
      ]
     },
     "execution_count": 27,
     "metadata": {},
     "output_type": "execute_result"
    }
   ],
   "source": [
    "df"
   ]
  },
  {
   "cell_type": "code",
   "execution_count": 44,
   "id": "4dd2c01c",
   "metadata": {},
   "outputs": [],
   "source": [
    "X_train, X_test, y_train, y_test = train_test_split(df[['X']], df[['Y']], test_size = 0.25)\n",
    " \n",
    "regr = LinearRegression()\n",
    "regr.fit(X_train, y_train)\n",
    "skl_inter = regr.intercept_\n",
    "skl_coef = regr.coef_"
   ]
  },
  {
   "cell_type": "code",
   "execution_count": 89,
   "id": "f5e8073b",
   "metadata": {},
   "outputs": [
    {
     "data": {
      "image/png": "[encoded data removed]",
      "text/plain": [
       "<Figure size 640x480 with 1 Axes>"
      ]
     },
     "metadata": {},
     "output_type": "display_data"
    }
   ],
   "source": [
    "y_pred = regr.predict(X_test)\n",
    "sns.regplot(x=df['X'], y=df['Y'], label = 'regplot')\n",
    "plt.plot(X_test, y_pred, color='r', label = 'sklearn')\n",
    "plt.plot(df['X'], df['y_pred_man'], color='y', linestyle = ':', label = 'manual')\n",
    "plt.legend()\n",
    "\n",
    "plt.show()"
   ]
  },
  {
   "cell_type": "code",
   "execution_count": 85,
   "id": "e6278ec9",
   "metadata": {},
   "outputs": [],
   "source": [
    "data = {'Type' : ['Manual', 'Sklearn'],\n",
    "    'Intercept': [b0,skl_inter[0]],\n",
    "       'Coeficient' : [b1,skl_coef[0][0]]}"
   ]
  },
  {
   "cell_type": "code",
   "execution_count": 86,
   "id": "bc418e9f",
   "metadata": {},
   "outputs": [],
   "source": [
    "results = pd.DataFrame(data)"
   ]
  },
  {
   "cell_type": "code",
   "execution_count": 87,
   "id": "1ba8eb65",
   "metadata": {},
   "outputs": [
    {
     "data": {
      "text/html": [
       "<div>\n",
       "<style scoped>\n",
       "    .dataframe tbody tr th:only-of-type {\n",
       "        vertical-align: middle;\n",
       "    }\n",
       "\n",
       "    .dataframe tbody tr th {\n",
       "        vertical-align: top;\n",
       "    }\n",
       "\n",
       "    .dataframe thead th {\n",
       "        text-align: right;\n",
       "    }\n",
       "</style>\n",
       "<table border=\"1\" class=\"dataframe\">\n",
       "  <thead>\n",
       "    <tr style=\"text-align: right;\">\n",
       "      <th></th>\n",
       "      <th>Type</th>\n",
       "      <th>Intercept</th>\n",
       "      <th>Coeficient</th>\n",
       "    </tr>\n",
       "  </thead>\n",
       "  <tbody>\n",
       "    <tr>\n",
       "      <th>0</th>\n",
       "      <td>Manual</td>\n",
       "      <td>-8005.445531</td>\n",
       "      <td>167.698416</td>\n",
       "    </tr>\n",
       "    <tr>\n",
       "      <th>1</th>\n",
       "      <td>Sklearn</td>\n",
       "      <td>-8110.098448</td>\n",
       "      <td>167.683734</td>\n",
       "    </tr>\n",
       "  </tbody>\n",
       "</table>\n",
       "</div>"
      ],
      "text/plain": [
       "      Type    Intercept  Coeficient\n",
       "0   Manual -8005.445531  167.698416\n",
       "1  Sklearn -8110.098448  167.683734"
      ]
     },
     "execution_count": 87,
     "metadata": {},
     "output_type": "execute_result"
    }
   ],
   "source": [
    "results"
   ]
  },
  {
   "cell_type": "code",
   "execution_count": null,
   "id": "13689b78",
   "metadata": {},
   "outputs": [],
   "source": []
  }
 ],
 "metadata": {
  "kernelspec": {
   "display_name": "Python 3 (ipykernel)",
   "language": "python",
   "name": "python3"
  },
  "language_info": {
   "codemirror_mode": {
    "name": "ipython",
    "version": 3
   },
   "file_extension": ".py",
   "mimetype": "text/x-python",
   "name": "python",
   "nbconvert_exporter": "python",
   "pygments_lexer": "ipython3",
   "version": "3.9.13"
  }
 },
 "nbformat": 4,
 "nbformat_minor": 5
}
